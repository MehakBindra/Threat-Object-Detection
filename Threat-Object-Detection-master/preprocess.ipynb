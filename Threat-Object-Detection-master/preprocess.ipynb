{
 "cells": [
  {
   "cell_type": "code",
   "execution_count": 22,
   "metadata": {},
   "outputs": [],
   "source": [
    "import os\n",
    "import numpy as np\n",
    "import shutil"
   ]
  },
  {
   "cell_type": "code",
   "execution_count": 23,
   "metadata": {},
   "outputs": [],
   "source": [
    "source1 = \"images/knife/\"\n",
    "dest11 = \"images/examples/\"\n",
    "files = os.listdir(source1)\n",
    "for f in files:\n",
    "    if np.random.rand(1) <= 0.2:\n",
    "        shutil.move(source1 + '/'+ f, dest11 + '/'+ f)"
   ]
  },
  {
   "cell_type": "code",
   "execution_count": 24,
   "metadata": {},
   "outputs": [],
   "source": [
    "source2 = \"images/scissors/\"\n",
    "files = os.listdir(source2)\n",
    "for f in files:\n",
    "    if np.random.rand(1) <= 0.2:\n",
    "        shutil.move(source2 + '/'+ f, dest11 + '/'+ f)"
   ]
  },
  {
   "cell_type": "code",
   "execution_count": null,
   "metadata": {},
   "outputs": [],
   "source": []
  }
 ],
 "metadata": {
  "kernelspec": {
   "display_name": "Python 3",
   "language": "python",
   "name": "python3"
  },
  "language_info": {
   "codemirror_mode": {
    "name": "ipython",
    "version": 3
   },
   "file_extension": ".py",
   "mimetype": "text/x-python",
   "name": "python",
   "nbconvert_exporter": "python",
   "pygments_lexer": "ipython3",
   "version": "3.5.4"
  }
 },
 "nbformat": 4,
 "nbformat_minor": 2
}
