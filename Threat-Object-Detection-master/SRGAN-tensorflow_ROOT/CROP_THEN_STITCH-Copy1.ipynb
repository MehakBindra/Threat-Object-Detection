{
 "cells": [
  {
   "cell_type": "code",
   "execution_count": 64,
   "metadata": {},
   "outputs": [],
   "source": [
    "import os\n",
    "\n",
    "##This is where you get the png files\n",
    "png_path_dir = ''\n",
    "#This is where you put the cropped files\n",
    "cropped_path_dir = ''\n",
    "\n",
    "# these are the generated images by srGAN\n",
    "cropped_path_gen = ''\n",
    "#This is where you put merged images\n",
    "merged_gen_1 = ''\n",
    "\n"
   ]
  },
  {
   "cell_type": "code",
   "execution_count": 5,
   "metadata": {},
   "outputs": [],
   "source": [
    "import PIL\n",
    "from PIL import Image"
   ]
  },
  {
   "cell_type": "code",
   "execution_count": 67,
   "metadata": {},
   "outputs": [],
   "source": [
    "def cutplz(file,name,path_to_be):\n",
    "    image_to_be_cropped = Image.open(file)\n",
    "    w , h = image_to_be_cropped.size\n",
    "    upper_half = image_to_be_cropped.crop((0,0,w,h//2))\n",
    "    lower_half = image_to_be_cropped.crop((0,h//2,w,h))\n",
    "    \n",
    "    upper_half.save(path_to_be+name+'uu.png')\n",
    "    lower_half.save(path_to_be+name+'ll.png')\n",
    "    \n",
    "def cutplz_4pcs(file,name,path_to_be):\n",
    "    image_to_be_cropped = Image.open(file)\n",
    "    w , h = image_to_be_cropped.size\n",
    "    upper_half     = image_to_be_cropped.crop((0,0,w,h//4))\n",
    "    upper_half_2nd = image_to_be_cropped.crop((0,h//4,w,h//2))\n",
    "\n",
    "    lower_half = image_to_be_cropped.crop((0,h//2,w,h-h//4))\n",
    "    lower_half_2nd = image_to_be_cropped.crop((0,h-h//4,w,h))\n",
    "    \n",
    "    \n",
    "    upper_half.save(path_to_be+name+'u1.png')\n",
    "    upper_half_2nd.save(path_to_be+name+'u2.png')\n",
    "    \n",
    "    lower_half.save(path_to_be+name+'l1.png')\n",
    "    lower_half_2nd.save(path_to_be+name+'l2.png')\n",
    "    \n",
    "def merge_images(file1=None, file2 =None, image1 =None, image2=None):\n",
    "    \"\"\"\n",
    "    Merge two images into one, displayed side by side\n",
    "    :param file1: path to first image file\n",
    "    :param file2: path to second image file\n",
    "    :return: the merged Image object\n",
    "    \n",
    "    \"\"\"\n",
    "    if image1 == None and image2 == None:\n",
    "        image1 = Image.open(file1)\n",
    "        image2 = Image.open(file2)\n",
    "\n",
    "    (width1, height1) = image1.size\n",
    "    (width2, height2) = image2.size\n",
    "\n",
    "    result_width = width1\n",
    "    result_height = height1+ height2\n",
    "\n",
    "    result = Image.new('RGB', (result_width, result_height))\n",
    "    result.paste(im=image1, box=(0, 0))\n",
    "    result.paste(im=image2, box=(0, height1))\n",
    "    \n",
    "    return result\n",
    "\n",
    "\n",
    "    "
   ]
  },
  {
   "cell_type": "code",
   "execution_count": 30,
   "metadata": {},
   "outputs": [],
   "source": [
    "ls_of_images = os.listdir(png_path_dir)\n",
    "length = len(ls_of_images)\n",
    "for i in range(length):\n",
    "    cutplz_4pcs(png_path_dir+ls_of_images[i],ls_of_images[i][:-4],cropped_path_dir)"
   ]
  },
  {
   "cell_type": "code",
   "execution_count": 70,
   "metadata": {},
   "outputs": [],
   "source": [
    "## THIS TO MERGE IMAGES\n",
    "## THIS ONLY WORKS IF YOU RAN THE SPLIT FUNCTION 2 times \n",
    "#######################################################\n",
    "\n",
    "gen = cropped_path_gen\n",
    "\n",
    "for i in range(180,336):\n",
    "    stri   = str(i)\n",
    "    path1  = gen + stri + 'u1u1' +'.png'\n",
    "    path2  = gen + stri + 'u1u2' +'.png'\n",
    "    path3  = gen + stri + 'u1l1' +'.png'\n",
    "    path4  = gen + stri + 'u1l2' +'.png'\n",
    "    path5  = gen + stri + 'u2u1' +'.png'\n",
    "    path6  = gen + stri + 'u2u2' +'.png'\n",
    "    path7  = gen + stri + 'u2l1' +'.png'\n",
    "    path8  = gen + stri + 'u2l2' +'.png'\n",
    "    path9  = gen + stri + 'l1u1' +'.png'\n",
    "    path10 = gen + stri + 'l1u2' +'.png'\n",
    "    path11 = gen + stri + 'l1l1' +'.png'\n",
    "    path12 = gen + stri + 'l1l2' +'.png'\n",
    "    path13 = gen + stri + 'l2u1' +'.png'\n",
    "    path14 = gen + stri + 'l2u2' +'.png'\n",
    "    path15 = gen + stri + 'l2l1' +'.png'\n",
    "    path16 = gen + stri + 'l2l2' +'.png'\n",
    "    \n",
    "    \n",
    "    mogo = merge_images(image1 = merge_images(image1 =merge_images(image1 =merge_images(file1=path1, file2 =path2), \n",
    "                                                            image2 =merge_images(file1=path3, file2 =path4)),\n",
    "                                       image2 =merge_images(image1 =merge_images(file1=path5, file2 =path6), \n",
    "                                                            image2 =merge_images(file1=path7, file2 =path8))),\n",
    "                 image2 = merge_images(image1 =merge_images(image1 =merge_images(file1=path9, file2 =path10),\n",
    "                                                            image2 =merge_images(file1=path11, file2 =path12)), \n",
    "                                       image2 =merge_images(image1 =merge_images(file1=path13, file2 =path14), \n",
    "                                                            image2 =merge_images(file1=path15, file2 =path16))))\n",
    "    mogo.save(merged_gen_1+stri+'.png')"
   ]
  }
 ],
 "metadata": {
  "kernelspec": {
   "display_name": "Python 3",
   "language": "python",
   "name": "python3"
  },
  "language_info": {
   "codemirror_mode": {
    "name": "ipython",
    "version": 3
   },
   "file_extension": ".py",
   "mimetype": "text/x-python",
   "name": "python",
   "nbconvert_exporter": "python",
   "pygments_lexer": "ipython3",
   "version": "3.6.8"
  }
 },
 "nbformat": 4,
 "nbformat_minor": 2
}
